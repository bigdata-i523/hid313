{
 "cells": [
  {
   "cell_type": "markdown",
   "metadata": {},
   "source": [
    "# #The Impact of Clinical Trial Results on Pharmaceutical Stock Performance"
   ]
  },
  {
   "cell_type": "markdown",
   "metadata": {},
   "source": [
    "While many relate stock market trading to gambling, successful traders have turned stock picking into a science. The likes of Warren Buffet tell us that successful stock buying is all in the research. So what kind of research aids in the prediction of companies within the highly volatile pharmaceutical market? The use of available, open-source APIs and Google Alerts are used to explore if clinical trial results can directly impact stock performance in small, mid, and large cap pharmaceutical companies. Key words and/or phrases in results and related news articles are identified as possible predictors of market effect. As well as a comparison to already established analyst ratings from Barclays, Goldman, Morningstar, or others which have already been shown to impact stock performance."
   ]
  },
  {
   "cell_type": "markdown",
   "metadata": {},
   "source": [
    "Step 1) Collect Data"
   ]
  },
  {
   "cell_type": "markdown",
   "metadata": {},
   "source": [
    "1.1 Google Alerts used to collect up to date information on clinical trials. Information imported with beautiful-soup and then parsed using text to dict code. "
   ]
  },
  {
   "cell_type": "code",
   "execution_count": 15,
   "metadata": {},
   "outputs": [
    {
     "name": "stdout",
     "output_type": "stream",
     "text": [
      "OrderedDict([('celsion', [16]), ('corporation', [16]), ('rating', [10]), ('oppenheimer', [6]), ('holdings', [6]), ('earnings', [6]), ('issued', [5]), ('target', [4]), ('price', [4]), ('report', [3]), ('stock', [3]), ('shares', [3]), ('from', [3]), ('with', [3]), ('institutional', [2]), ('treatment', [2]), ('consensus', [2]), ('estimates', [2]), ('investment', [2]), ('currently', [2]), ('research', [2]), ('recently', [2]), ('management', [2]), ('news', [2]), ('about', [2]), ('trial', [2]), ('lincolnian', [2]), ('cancer', [2]), ('sabby', [2]), ('owned', [2]), ('post', [2]), ('story', [2]), ('clinical', [2]), ('company', [2]), ('analyst', [2]), ('this', [2]), ('share', [2]), ('purchased', [2]), ('also', [2]), ('analysts', [2]), ('forecasts', [2]), ('most', [2]), ('biotechnology', [2]), ('phase', [2]), ('recent', [2]), ('filing', [2]), ('oncology', [1]), ('recurrent', [1]), ('four', [1]), ('anticipates', [1]), ('group', [1]), ('copyright', [1]), ('valuengine', [1]), ('ricardo', [1]), ('violation', [1]), ('presently', [1]), ('primary', [1]), ('valued', [1]), ('breast', [1]), ('during', [1]), ('investor', [1]), ('dignity', [1]), ('earn', [1]), ('maxim', [1]), ('second', [1]), ('opened', [1]), ('version', [1]), ('international', [1]), ('reading', [1]), ('bought', [1]), ('optima', [1]), ('august', [1]), ('republished', [1]), ('reported', [1]), ('november', [1]), ('product', [1]), ('wall', [1]), ('candidate', [1]), ('according', [1]), ('reports', [1]), ('zacks', [1]), ('upgraded', [1]), ('raised', [1]), ('number', [1]), ('another', [1]), ('rated', [1]), ('trademark', [1]), ('approximately', [1]), ('their', [1]), ('that', [1]), ('stolen', [1]), ('released', [1]), ('liver', [1]), ('encapsulation', [1]), ('hold', [1]), ('posted', [1]), ('states', [1]), ('october', [1]), ('originally', [1]), ('will', [1]), ('property', [1]), ('liposomal', [1]), ('have', [1]), ('high', [1]), ('drug', [1]), ('viewed', [1]), ('sell', [1]), ('united', [1]), ('stake', [1]), ('note', [1]), ('chest', [1]), ('other', [1]), ('which', [1]), ('online', [1]), ('singh', [1]), ('paula', [1]), ('development', [1]), ('illegally', [1]), ('fund', [1]), ('original', [1]), ('equities', [1]), ('position', [1])])\n"
     ]
    }
   ],
   "source": [
    "from collections import OrderedDict\n",
    "from operator import itemgetter\n",
    "def beautiful_soup(url):\n",
    "    return \"hold\"\n",
    "\n",
    "def text_mine (mySentence):\n",
    "    mySentence = mySentence.lower()\n",
    "    myList = [word for word in mySentence.split() if len(word)>3]\n",
    "    myList = [word for word in myList if word.isalpha()]\n",
    "    myDict = {}\n",
    "    for word in myList:\n",
    "        myDict[word]=[myList.count(word)]\n",
    "\n",
    "    return myDict\n",
    "\n",
    "Article_Example = \"Celsion Corporation to Post Q4 2017 Earnings of ($0.29) Per Share, Oppenheimer Holdings Forecasts (CLSN) Posted by Paula Ricardo  | Nov 25th, 2017 Celsion Corporation (NASDAQ:CLSN) – Investment analysts at Oppenheimer Holdings issued their Q4 2017 earnings per share (EPS) estimates for Celsion Corporation in a report released on Monday. Oppenheimer Holdings analyst H. Singh anticipates that the biotechnology company will earn ($0.29) per share for the quarter. Oppenheimer Holdings currently has a “Outperform” rating and a $9.00 target price on the stock. Oppenheimer Holdings also issued estimates for Celsion Corporation’s FY2018 earnings at ($1.21) EPS, FY2019 earnings at ($1.32) EPS and FY2020 earnings at ($0.94) EPS. Get Celsion Corporation alerts: A number of other equities analysts also recently issued reports on CLSN. Zacks Investment Research upgraded Celsion Corporation from a “hold” rating to a “buy” rating and set a $1.50 price target for the company in a research note on Tuesday, August 29th. Maxim Group raised shares of Celsion Corporation from a “hold” rating to a “buy” rating and set a $7.00 target price on the stock in a report on Wednesday, October 4th. Finally, ValuEngine cut shares of Celsion Corporation from a “sell” rating to a “strong sell” rating in a report on Wednesday, November 15th. One analyst has rated the stock with a sell rating, one has issued a hold rating and four have issued a buy rating to the company’s stock. Celsion Corporation presently has a consensus rating of “Buy” and a consensus target price of $11.90. Celsion Corporation (NASDAQ CLSN) opened at $3.26 on Thursday. Celsion Corporation has a 12-month low of $1.24 and a 12-month high of $12.46. An institutional investor recently bought a new position in Celsion Corporation stock. Sabby Management LLC purchased a new stake in Celsion Corporation (NASDAQ:CLSN) during the second quarter, according to its most recent filing with the SEC. The fund purchased 108,843 shares of the biotechnology company’s stock, valued at approximately $223,000. Sabby Management LLC owned about 1.30% of Celsion Corporation as of its most recent filing with the SEC. 6.41% of the stock is currently owned by institutional investors. WARNING: “Celsion Corporation to Post Q4 2017 Earnings of ($0.29) Per Share, Oppenheimer Holdings Forecasts (CLSN)” was originally reported by The Lincolnian Online and is the property of of The Lincolnian Online. If you are reading this news story on another domain, it was illegally stolen and republished in violation of United States & international copyright and trademark legislation. The original version of this news story can be viewed at https://www.thelincolnianonline.com/2017/11/25/celsion-corporation-to-post-q4-2017-earnings-of-0-29-per-share-oppenheimer-holdings-forecasts-clsn.html. About Celsion Corporation Celsion Corporation is an oncology drug development company. The Company’s product candidate is ThermoDox, a heat-activated liposomal encapsulation of doxorubicin, which is in Phase III clinical trial for treatment of primary liver cancer (the OPTIMA Study) and a Phase II clinical trial for treatment of recurrent chest wall breast cancer (the DIGNITY Study).\"\n",
    "\n",
    "print OrderedDict(sorted(text_mine(Article_Example).items(), key=itemgetter(1), reverse=True))"
   ]
  },
  {
   "cell_type": "markdown",
   "metadata": {},
   "source": [
    "Step 2) Store Data"
   ]
  },
  {
   "cell_type": "markdown",
   "metadata": {},
   "source": [
    "Step 3) Analyze Data"
   ]
  },
  {
   "cell_type": "code",
   "execution_count": null,
   "metadata": {
    "collapsed": true
   },
   "outputs": [],
   "source": []
  }
 ],
 "metadata": {
  "kernelspec": {
   "display_name": "Python 2",
   "language": "python",
   "name": "python2"
  },
  "language_info": {
   "codemirror_mode": {
    "name": "ipython",
    "version": 2
   },
   "file_extension": ".py",
   "mimetype": "text/x-python",
   "name": "python",
   "nbconvert_exporter": "python",
   "pygments_lexer": "ipython2",
   "version": "2.7.13"
  }
 },
 "nbformat": 4,
 "nbformat_minor": 2
}
