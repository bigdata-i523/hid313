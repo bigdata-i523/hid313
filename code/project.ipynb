{
 "cells": [
  {
   "cell_type": "markdown",
   "metadata": {},
   "source": [
    "# #The Impact of Clinical Trial Results on Pharmaceutical Stock Performance"
   ]
  },
  {
   "cell_type": "markdown",
   "metadata": {},
   "source": [
    "While many relate stock market trading to gambling, successful traders have turned stock picking into a science. The likes of Warren Buffet tell us that successful stock buying is all in the research. So what kind of research aids in the prediction of companies within the highly volatile pharmaceutical market? The use of available, open-source APIs and Google Alerts are used to explore if clinical trial results can directly impact stock performance in small, mid, and large cap pharmaceutical companies. Key words and/or phrases in results and related news articles are identified as possible predictors of market effect. As well as a comparison to already established analyst ratings from Barclays, Goldman, Morningstar, or others which have already been shown to impact stock performance."
   ]
  },
  {
   "cell_type": "markdown",
   "metadata": {},
   "source": [
    "Step 1) Collect Data"
   ]
  },
  {
   "cell_type": "markdown",
   "metadata": {},
   "source": [
    "1.1 Set up Google Alerts by going to: https://www.google.com/alerts\n",
    "        Set alerts to capture news or other articles pertaining to the subject matter\n",
    "        Collected up to date information on clinical trials using key words: \n",
    "            \"Phase III trail\"\n",
    "            \"Phase 3 trial\"\n",
    "            \"Meets Primary End Point\"\n",
    "\n",
    "1.2 Access Google Alert Snippits with Gmail API:\n",
    "    1.2.1 Go to: https://developers.google.com/gmail/api/quickstart/python to configure Authentication\n",
    "    1.2.2 Make sure the client_secret.json is in the same directory\n",
    "    1.2.3 Run Google API parsing script\n",
    "\n"
   ]
  },
  {
   "cell_type": "code",
   "execution_count": null,
   "metadata": {
    "collapsed": true
   },
   "outputs": [],
   "source": [
    "'''\n",
    "Tiffany Fabianac Modified code from:\n",
    "Reading GMAIL using Python\n",
    "    - https://github.com/abhishekchhibber/Gmail-Api-through-Python\n",
    "\t- Abhishek Chhibber\n",
    "'''\n",
    "\n",
    "'''\n",
    "This script does the following:\n",
    "- Go to Gmal inbox\n",
    "- Find and read all the Google Alert messages\n",
    "- Extract details (Date, Snippet) and export them to a .csv file / DB\n",
    "'''\n",
    "\n",
    "'''\n",
    "Before running this script, the user should get the authentication by following \n",
    "the link: https://developers.google.com/gmail/api/quickstart/python\n",
    "Also, client_secret.json should be saved in the same directory as this file\n",
    "'''\n",
    "\n",
    "# Importing required libraries\n",
    "from apiclient import discovery\n",
    "from apiclient import errors\n",
    "from httplib2 import Http\n",
    "from oauth2client import file, client, tools\n",
    "import base64\n",
    "from bs4 import BeautifulSoup\n",
    "import re\n",
    "import time\n",
    "import dateutil.parser as parser\n",
    "from datetime import datetime\n",
    "import datetime\n",
    "import csv\n",
    "import json\n",
    "import io\n",
    "\n",
    "# Creating a storage.JSON file with authentication details\n",
    "SCOPES = 'https://www.googleapis.com/auth/gmail.modify'  # we are using modify and not readonly, as we will be marking the messages Read\n",
    "store = file.Storage('storage.json')\n",
    "creds = store.get()\n",
    "if not creds or creds.invalid:\n",
    "    flow = client.flow_from_clientsecrets('client_secret.json', SCOPES)\n",
    "    creds = tools.run_flow(flow, store)\n",
    "GMAIL = discovery.build('gmail', 'v1', http=creds.authorize(Http()))\n",
    "\n",
    "user_id = 'me'\n",
    "label_id_one = 'INBOX'\n",
    "\n",
    "# Getting all the unread messages from Inbox\n",
    "# labelIds can be changed accordingly\n",
    "alert_msgs = GMAIL.users().messages().list(userId='me', labelIds=[label_id_one], q='from:googlealerts-noreply@google.com').execute()\n",
    "\n",
    "# We get a dictonary. Now reading values for the key 'messages'\n",
    "mssg_list = alert_msgs['messages']\n",
    "\n",
    "final_list = []\n",
    "\n",
    "for mssg in mssg_list:\n",
    "    temp_dict = {}\n",
    "    m_id = mssg['id']  # get id of individual message\n",
    "    message = GMAIL.users().messages().get(userId=user_id, id=m_id).execute()  # fetch the message using API\n",
    "    payld = message['payload']  # get payload of the message\n",
    "    headr = payld['headers']  # get header of the payload\n",
    "\n",
    "    for two in headr:  # getting the date\n",
    "        if two['name'] == 'Date':\n",
    "            msg_date = two['value']\n",
    "            date_parse = (parser.parse(msg_date))\n",
    "            m_date = (date_parse.date())\n",
    "            temp_dict['Date'] = str(m_date)\n",
    "        else:\n",
    "            pass\n",
    "\n",
    "    temp_dict['Snippet'] = message['snippet']\n",
    "\n",
    "\n",
    "\n",
    "    final_list=json.dumps(temp_dict)  # This will create a dictonary item in the final list\n",
    "    re.sub(r'\\u22c5', '', final_list)\n",
    "    print final_list\n",
    "\n",
    "# exporting the values as .csv\n",
    "#final_list = json.loads(final_list)\n",
    "with open(\"API_out.csv\", \"a\") as f:\n",
    "    header=[\"Date\", \"Snippet\"]\n",
    "    writer = csv.DictWriter(f, fieldnames=header, delimiter=',')\n",
    "    for x in final_list:\n",
    "        writer.writerow(x)\n",
    "\n",
    "\n",
    "\n"
   ]
  },
  {
   "cell_type": "markdown",
   "metadata": {},
   "source": [
    "1.3 The stock symbols had to be manually extracted from the Snippets (Sad day) \n",
    "\n",
    "1.4 Find out if the stocks associate with these Google Alerts had an signigifant (10%) price increase within 5 days (including weekends) from the alert:"
   ]
  },
  {
   "cell_type": "code",
   "execution_count": null,
   "metadata": {
    "collapsed": true
   },
   "outputs": [],
   "source": [
    "from pandas_datareader import data\n",
    "import pandas as pd\n",
    "import csv\n",
    "import datetime\n",
    "\n",
    "\n",
    "def stockData (startDate, endDate, ticker):\n",
    "\t# Define which online source one should use\n",
    "\tdata_source = 'google'\n",
    "\n",
    "\t# User pandas_reader.data.DataReader to load the desired data.\n",
    "\tpanel_data = data.DataReader(ticker, data_source, startDate, endDate)\n",
    "\n",
    "\tclose = panel_data.ix['Close']\n",
    "\tvolume = panel_data.ix['Volume']\n",
    "\top = panel_data.ix['Open']\n",
    "\thigh = panel_data.ix['High']\n",
    "\tlow = panel_data.ix['Low']\n",
    "\n",
    "\t# Getting all weekdays \n",
    "\tall_weekdays = pd.date_range(start=startDate, end=endDate, freq='B')\n",
    "\n",
    "\t# Align new set of dates\n",
    "\tclose = close.reindex(all_weekdays)\n",
    "\tvolume = volume.reindex(all_weekdays)\n",
    "\top = op.reindex(all_weekdays)\n",
    "\thigh = high.reindex(all_weekdays)\n",
    "\tlow = low.reindex(all_weekdays)\n",
    "\n",
    "\tresult = pd.concat([close, volume, op, high, low], axis=1, join='inner')\n",
    "\tresult.columns=['close','volume','open','high','low']\n",
    "\n",
    "\treturn result\n",
    "\t\n",
    "    \n",
    "def findHigh (startDate, ticker):\n",
    "\n",
    "\t# Get date and five days after\n",
    "\ttemp_date = datetime.datetime.strptime(startDate, \"%Y-%m-%d\")\n",
    "\tendDate = temp_date + datetime.timedelta(days=5)\n",
    "\n",
    "\t\n",
    "\tresult = stockData(startDate, endDate, ticker)\n",
    "\n",
    "\n",
    "\ttempHigh = result.nlargest(1,'high')\n",
    "\thigh = tempHigh.iloc[0]['high']\n",
    "\n",
    "\treturn high\n",
    "\n",
    "def openPrice (startDate, ticker):\n",
    "\t\n",
    "\tresult = stockData(startDate, startDate, ticker)\n",
    "\topen = result.iloc[0]['open']\n",
    "\treturn open\n",
    "\n",
    "\n",
    "\n",
    "\n",
    "ticker = ['CLSN']\n",
    "start_date = '2017-08-21'\n",
    "\n",
    "\n",
    "with open('google_alert_data.csv', 'rb') as csvfile:\n",
    "\twith open('outfile.csv','a') as f:\n",
    "\t\tdatareader = csv.DictReader(csvfile)\n",
    "\t\twriter = csv.DictWriter(f, fieldnames=datareader.fieldnames, extrasaction='ignore', \n",
    "delimiter=',')\n",
    "\t\tfor line in datareader:\n",
    "\t\t\tticker = [line['Ticker']]\n",
    "\t\t\tdate = line['\\xef\\xbb\\xbfDate']\n",
    "\t\t\thigh = findHigh(date, ticker)\n",
    "\t\t\tstartPrice = openPrice(start_date, ticker)\n",
    "\t\t\tprctIncrease = round(((high-startPrice)/startPrice)*100,2)\n",
    "\t\t\tif (high > startPrice*1.1):\n",
    "\t\t\t\tline['W/L?']='W'\n",
    "\t\t\t\tline['%Change']=prctIncrease\n",
    "\t\t\t\tprint ticker, prctIncrease, high, startPrice\n",
    "\t\t\telse:\n",
    "\t\t\t\tline['W/L?']='L'\n",
    "\t\t\t\tline['%Change']=prctIncrease\n",
    "\t\t\twriter.writerow(line)\n"
   ]
  },
  {
   "cell_type": "code",
   "execution_count": 15,
   "metadata": {},
   "outputs": [
    {
     "name": "stdout",
     "output_type": "stream",
     "text": [
      "OrderedDict([('celsion', [16]), ('corporation', [16]), ('rating', [10]), ('oppenheimer', [6]), ('holdings', [6]), ('earnings', [6]), ('issued', [5]), ('target', [4]), ('price', [4]), ('report', [3]), ('stock', [3]), ('shares', [3]), ('from', [3]), ('with', [3]), ('institutional', [2]), ('treatment', [2]), ('consensus', [2]), ('estimates', [2]), ('investment', [2]), ('currently', [2]), ('research', [2]), ('recently', [2]), ('management', [2]), ('news', [2]), ('about', [2]), ('trial', [2]), ('lincolnian', [2]), ('cancer', [2]), ('sabby', [2]), ('owned', [2]), ('post', [2]), ('story', [2]), ('clinical', [2]), ('company', [2]), ('analyst', [2]), ('this', [2]), ('share', [2]), ('purchased', [2]), ('also', [2]), ('analysts', [2]), ('forecasts', [2]), ('most', [2]), ('biotechnology', [2]), ('phase', [2]), ('recent', [2]), ('filing', [2]), ('oncology', [1]), ('recurrent', [1]), ('four', [1]), ('anticipates', [1]), ('group', [1]), ('copyright', [1]), ('valuengine', [1]), ('ricardo', [1]), ('violation', [1]), ('presently', [1]), ('primary', [1]), ('valued', [1]), ('breast', [1]), ('during', [1]), ('investor', [1]), ('dignity', [1]), ('earn', [1]), ('maxim', [1]), ('second', [1]), ('opened', [1]), ('version', [1]), ('international', [1]), ('reading', [1]), ('bought', [1]), ('optima', [1]), ('august', [1]), ('republished', [1]), ('reported', [1]), ('november', [1]), ('product', [1]), ('wall', [1]), ('candidate', [1]), ('according', [1]), ('reports', [1]), ('zacks', [1]), ('upgraded', [1]), ('raised', [1]), ('number', [1]), ('another', [1]), ('rated', [1]), ('trademark', [1]), ('approximately', [1]), ('their', [1]), ('that', [1]), ('stolen', [1]), ('released', [1]), ('liver', [1]), ('encapsulation', [1]), ('hold', [1]), ('posted', [1]), ('states', [1]), ('october', [1]), ('originally', [1]), ('will', [1]), ('property', [1]), ('liposomal', [1]), ('have', [1]), ('high', [1]), ('drug', [1]), ('viewed', [1]), ('sell', [1]), ('united', [1]), ('stake', [1]), ('note', [1]), ('chest', [1]), ('other', [1]), ('which', [1]), ('online', [1]), ('singh', [1]), ('paula', [1]), ('development', [1]), ('illegally', [1]), ('fund', [1]), ('original', [1]), ('equities', [1]), ('position', [1])])\n"
     ]
    }
   ],
   "source": [
    "from collections import OrderedDict\n",
    "from operator import itemgetter\n",
    "def beautiful_soup(url):\n",
    "    return \"hold\"\n",
    "\n",
    "def text_mine (mySentence):\n",
    "    mySentence = mySentence.lower()\n",
    "    myList = [word for word in mySentence.split() if len(word)>3]\n",
    "    myList = [word for word in myList if word.isalpha()]\n",
    "    myDict = {}\n",
    "    for word in myList:\n",
    "        myDict[word]=[myList.count(word)]\n",
    "\n",
    "    return myDict\n",
    "\n",
    "Article_Example = \"Celsion Corporation to Post Q4 2017 Earnings of ($0.29) Per Share, Oppenheimer Holdings Forecasts (CLSN) Posted by Paula Ricardo  | Nov 25th, 2017 Celsion Corporation (NASDAQ:CLSN) – Investment analysts at Oppenheimer Holdings issued their Q4 2017 earnings per share (EPS) estimates for Celsion Corporation in a report released on Monday. Oppenheimer Holdings analyst H. Singh anticipates that the biotechnology company will earn ($0.29) per share for the quarter. Oppenheimer Holdings currently has a “Outperform” rating and a $9.00 target price on the stock. Oppenheimer Holdings also issued estimates for Celsion Corporation’s FY2018 earnings at ($1.21) EPS, FY2019 earnings at ($1.32) EPS and FY2020 earnings at ($0.94) EPS. Get Celsion Corporation alerts: A number of other equities analysts also recently issued reports on CLSN. Zacks Investment Research upgraded Celsion Corporation from a “hold” rating to a “buy” rating and set a $1.50 price target for the company in a research note on Tuesday, August 29th. Maxim Group raised shares of Celsion Corporation from a “hold” rating to a “buy” rating and set a $7.00 target price on the stock in a report on Wednesday, October 4th. Finally, ValuEngine cut shares of Celsion Corporation from a “sell” rating to a “strong sell” rating in a report on Wednesday, November 15th. One analyst has rated the stock with a sell rating, one has issued a hold rating and four have issued a buy rating to the company’s stock. Celsion Corporation presently has a consensus rating of “Buy” and a consensus target price of $11.90. Celsion Corporation (NASDAQ CLSN) opened at $3.26 on Thursday. Celsion Corporation has a 12-month low of $1.24 and a 12-month high of $12.46. An institutional investor recently bought a new position in Celsion Corporation stock. Sabby Management LLC purchased a new stake in Celsion Corporation (NASDAQ:CLSN) during the second quarter, according to its most recent filing with the SEC. The fund purchased 108,843 shares of the biotechnology company’s stock, valued at approximately $223,000. Sabby Management LLC owned about 1.30% of Celsion Corporation as of its most recent filing with the SEC. 6.41% of the stock is currently owned by institutional investors. WARNING: “Celsion Corporation to Post Q4 2017 Earnings of ($0.29) Per Share, Oppenheimer Holdings Forecasts (CLSN)” was originally reported by The Lincolnian Online and is the property of of The Lincolnian Online. If you are reading this news story on another domain, it was illegally stolen and republished in violation of United States & international copyright and trademark legislation. The original version of this news story can be viewed at https://www.thelincolnianonline.com/2017/11/25/celsion-corporation-to-post-q4-2017-earnings-of-0-29-per-share-oppenheimer-holdings-forecasts-clsn.html. About Celsion Corporation Celsion Corporation is an oncology drug development company. The Company’s product candidate is ThermoDox, a heat-activated liposomal encapsulation of doxorubicin, which is in Phase III clinical trial for treatment of primary liver cancer (the OPTIMA Study) and a Phase II clinical trial for treatment of recurrent chest wall breast cancer (the DIGNITY Study).\"\n",
    "\n",
    "print OrderedDict(sorted(text_mine(Article_Example).items(), key=itemgetter(1), reverse=True))"
   ]
  },
  {
   "cell_type": "markdown",
   "metadata": {},
   "source": [
    "Step 2) Store Data"
   ]
  },
  {
   "cell_type": "markdown",
   "metadata": {},
   "source": [
    "Step 3) Analyze Data"
   ]
  },
  {
   "cell_type": "code",
   "execution_count": null,
   "metadata": {
    "collapsed": true
   },
   "outputs": [],
   "source": []
  }
 ],
 "metadata": {
  "kernelspec": {
   "display_name": "Python 2",
   "language": "python",
   "name": "python2"
  },
  "language_info": {
   "codemirror_mode": {
    "name": "ipython",
    "version": 2
   },
   "file_extension": ".py",
   "mimetype": "text/x-python",
   "name": "python",
   "nbconvert_exporter": "python",
   "pygments_lexer": "ipython2",
   "version": "2.7.13"
  }
 },
 "nbformat": 4,
 "nbformat_minor": 2
}
